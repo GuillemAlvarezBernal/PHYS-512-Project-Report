{
 "cells": [
  {
   "cell_type": "markdown",
   "id": "702a3c74",
   "metadata": {},
   "source": [
    "This code is meant to do numerous simulations. Then, it will not display any video, just the final plot for the cross section. That's why every code line related to ploting the particles have been removed, and the particles only have five properties."
   ]
  },
  {
   "cell_type": "code",
   "execution_count": 7,
   "id": "eaa2ef59",
   "metadata": {},
   "outputs": [],
   "source": [
    "import numpy as np\n",
    "import matplotlib.pyplot as plt\n",
    "from mpl_toolkits.mplot3d import Axes3D\n",
    "from IPython.display import HTML\n",
    "from matplotlib import animation\n",
    "import time"
   ]
  },
  {
   "cell_type": "code",
   "execution_count": 26,
   "id": "e6f4b9f1",
   "metadata": {},
   "outputs": [],
   "source": [
    "def initial_loc_vel_assigner(Natoms, targets, p1, p2, m1, m2, r1, r2, q1, q2):\n",
    "    particles_properties = {i:[] for i in range(Natoms)}\n",
    "    for i in range(Natoms):\n",
    "        x = np.random.normal(loc = 0.0, scale = Rbeam)\n",
    "        y = np.random.normal(loc = 0.0, scale = Rbeam)\n",
    "        z = np.random.normal(loc = 0.0, scale = Rbeam)\n",
    "        if i < Natoms-targets:\n",
    "            particles_properties[i] = [np.array([x-L, y, z]), np.array([p1, 0, 0]), m1, r1, q1]\n",
    "        else:\n",
    "            particles_properties[i] = [np.array([x+L, y, z]), np.array([p2, 0, 0]), m2, r2, q2]\n",
    "    return particles_properties"
   ]
  },
  {
   "cell_type": "code",
   "execution_count": 27,
   "id": "d68e200a",
   "metadata": {},
   "outputs": [],
   "source": [
    "def checkCollisions(Natoms, particles_properties):\n",
    "    hitlist = []\n",
    "    for i in particles_properties:\n",
    "        ai = particles_properties[i][0]\n",
    "        for j in particles_properties:\n",
    "            if j <i:\n",
    "                aj = particles_properties[j][0]\n",
    "                r2 = particles_properties[j][3] + particles_properties[i][3]\n",
    "                dr = ai - aj\n",
    "                if np.linalg.norm(dr) < r2: hitlist.append([i,j])\n",
    "    return np.array(hitlist)"
   ]
  },
  {
   "cell_type": "code",
   "execution_count": 28,
   "id": "e10303f4",
   "metadata": {},
   "outputs": [],
   "source": [
    "def pos_update(particles_properties):\n",
    "    global colisions\n",
    "    \n",
    "    for i in particles_properties:\n",
    "        particles_properties[i][0] = particles_properties[i][0] + dt*particles_properties[i][1]/particles_properties[i][2]\n",
    "        particles_properties[i][1] = particles_properties[i][1] + dt*lorentz_force(particles_properties[i][4], particles_properties[i][1], B, particles_properties[i][2])\n",
    "        \n",
    "    hitlist = checkCollisions(Natoms, particles_properties)\n",
    "    \n",
    "    for ij in hitlist:\n",
    "        i = ij[0]\n",
    "        j = ij[1]\n",
    "        vrel = particles_properties[j][1]/particles_properties[j][2]-particles_properties[i][1]/particles_properties[i][2]\n",
    "        rrel = particles_properties[i][0]-particles_properties[j][0]\n",
    "        if np.linalg.norm(vrel)**2 == 0: continue; \n",
    "        if np.linalg.norm(rrel) > particles_properties[i][3] + particles_properties[j][3]: continue \n",
    "        colisions = colisions + 1 \n",
    "        particles_properties  = colision_resolver(i, j, particles_properties) \n",
    "    return particles_properties"
   ]
  },
  {
   "cell_type": "code",
   "execution_count": 29,
   "id": "b34d7ffa",
   "metadata": {},
   "outputs": [],
   "source": [
    "def colision_resolver(i, j, particles_properties):\n",
    "    global muons\n",
    "    global s\n",
    "    \n",
    "    ptot = particles_properties[i][1]+particles_properties[j][1]\n",
    "    pos_i = particles_properties[i][0]\n",
    "    pos_j = particles_properties[j][0]\n",
    "    vi = particles_properties[i][1]/particles_properties[i][2]\n",
    "    vj = particles_properties[j][1]/particles_properties[j][2]\n",
    "    vrel = vj-vi\n",
    "    rrel = pos_i-pos_j\n",
    "    dx = np.dot(rrel, vrel/np.linalg.norm(vrel))\n",
    "    dy = np.linalg.norm(np.cross(rrel, vrel/np.linalg.norm(vrel)))\n",
    "    alpha = np.arcsin(dy/(particles_properties[i][3] + particles_properties[j][3])) \n",
    "    d = (particles_properties[i][3] + particles_properties[j][3])*np.cos(alpha)-dx \n",
    "    deltat = d/np.linalg.norm(vrel) \n",
    "    pos_i = pos_i-vi*deltat\n",
    "    pos_j = pos_j-vj*deltat\n",
    "    mtot = particles_properties[i][2] + particles_properties[j][2]\n",
    "    pcmi = particles_properties[i][1] - ptot*particles_properties[i][2]/mtot\n",
    "    pcmj = particles_properties[j][1] - ptot*particles_properties[j][2]/mtot\n",
    "    rrel = rrel/np.linalg.norm(rrel)\n",
    "    pcmi = pcmi-2*np.dot(pcmi, rrel)*rrel\n",
    "    pcmj = pcmj-2*np.dot(pcmj, rrel)*rrel\n",
    "    scm = 2*(2*np.pi*(1+np.cos(alpha)**2)/(s))*np.dot(particles_properties[i][1], particles_properties[j][1])\n",
    "    if abs(scm) > 2*mu and (particles_properties[i][2] != mu and particles_properties[j][2] != mu):\n",
    "        muons = muons + 1\n",
    "        particles_properties[i][2] = mu\n",
    "        particles_properties[j][2] = mu\n",
    "        particles_properties[i][3] = Ru\n",
    "        particles_properties[j][3] = Ru\n",
    "        particles_properties[i][1] = pcmi + ptot*particles_properties[i][2]/mtot - mu\n",
    "        particles_properties[j][1] = pcmj + ptot*particles_properties[j][2]/mtot - mu\n",
    "    else:\n",
    "        particles_properties[i][1] = pcmi + ptot*particles_properties[i][2]/mtot\n",
    "        particles_properties[j][1] = pcmj + ptot*particles_properties[j][2]/mtot \n",
    "    particles_properties[i][0] = pos_i + (particles_properties[i][1]/particles_properties[i][2])*deltat \n",
    "    particles_properties[j][0] = pos_j + (particles_properties[j][1]/particles_properties[j][2])*deltat\n",
    "    return particles_properties"
   ]
  },
  {
   "cell_type": "code",
   "execution_count": 30,
   "id": "bf05c2e8",
   "metadata": {},
   "outputs": [],
   "source": [
    "def lorentz_force(q, p, B, mass):\n",
    "    v = p/mass\n",
    "    return q * np.cross(v, B)"
   ]
  },
  {
   "cell_type": "code",
   "execution_count": 31,
   "id": "76c47c75",
   "metadata": {},
   "outputs": [],
   "source": [
    "# All the variables are the same and have been explained already\n",
    "Natoms = 1000\n",
    "targets = int(Natoms/2)\n",
    "\n",
    "Rbeam = 0.5\n",
    "L = 5\n",
    "\n",
    "me = 1\n",
    "mu = 2\n",
    "Re = 0.1\n",
    "Ru = 0.1\n",
    "q1 = -1\n",
    "q2 = 1 \n",
    "\n",
    "B = np.array([0, 0, 0.06])\n",
    "q = 1"
   ]
  },
  {
   "cell_type": "code",
   "execution_count": 33,
   "id": "f3e4fc8e",
   "metadata": {},
   "outputs": [
    {
     "name": "stdout",
     "output_type": "stream",
     "text": [
      "Now we are computing for s = 0.02\n",
      "Now we are computing for s = 0.125\n",
      "Now we are computing for s = 0.5\n",
      "Now we are computing for s = 1.125\n",
      "Now we are computing for s = 2\n",
      "Now we are computing for s = 3.125\n",
      "Now we are computing for s = 4.5\n",
      "Now we are computing for s = 6.125\n",
      "Now we are computing for s = 8\n",
      "Now we are computing for s = 12.5\n",
      "Now we are computing for s = 24.5\n",
      "Now we are computing for s = 32\n",
      "Now we are computing for s = 50\n",
      "Now we are computing for s = 72\n",
      "It took 745.059 s to solve \n"
     ]
    },
    {
     "data": {
      "image/png": "[encoded data removed]",
      "text/plain": [
       "<Figure size 640x480 with 1 Axes>"
      ]
     },
     "metadata": {},
     "output_type": "display_data"
    }
   ],
   "source": [
    "start = time.time()\n",
    "\n",
    "# All the initial momentums we want to simulate\n",
    "momentum = [0.1, 0.25, 0.5, 0.75, 1, 1.25, 1.5, 1.75, 2, 2.5, 3.5, 4, 5, 6]\n",
    "\n",
    "S = []  # List to store calculated values of s\n",
    "CS = []  # List to store computed cross-section values\n",
    "\n",
    "# Loop through different momentum values\n",
    "for p in momentum:\n",
    "    s = 2*(p**2) # Calculate the value of s for each momentum\n",
    "    print('Now we are computing for s = %lg' %(2*(p**2))) # Print the current s value we are computing for\n",
    "    \n",
    "    # Initialize global variables for collisions and muons\n",
    "    global colisions\n",
    "    global muons\n",
    "    \n",
    "    S.append(s) # Append the calculated s value to the list\n",
    "    \n",
    "    Natoms = 1000\n",
    "    \n",
    "    p1 = p # Momentum for beam 1\n",
    "    p2 = -p # Momentum for beam 2\n",
    "    \n",
    "    dt = 2*Re*me/p1\n",
    "    T = int(((2*L-2*Rbeam)*me/(p1*dt)))\n",
    "    \n",
    "    particles_properties = initial_loc_vel_assigner(Natoms, targets, p1, p2, me, me, Re, Re, q1, q2)\n",
    "    \n",
    "    hitlist = checkCollisions(Natoms, particles_properties)\n",
    "    \n",
    "    if len(hitlist) > 0:\n",
    "        for i in hitlist[:,0]: \n",
    "            if i in particles_properties: \n",
    "                particles_properties.pop(i) \n",
    "                \n",
    "    Natoms = len(particles_properties)\n",
    "        \n",
    "    colisions = 0\n",
    "    muons = 0\n",
    "        \n",
    "    # Simulate the movement and interactions of particles for a certain number of time steps\n",
    "    for t in range(T):\n",
    "        particles_properties = pos_update(particles_properties)\n",
    "    \n",
    "    # Calculate cross-section based on muons produced and collisions\n",
    "    if colisions == 0:\n",
    "        CS.append(0)\n",
    "    else:\n",
    "        CS.append((muons*np.pi*Rbeam**2)/(colisions*Natoms))\n",
    "        \n",
    "end = time.time()\n",
    "print('It took %lg s to solve ' %(end - start))\n",
    "\n",
    "plt.plot(np.sqrt(S), CS)\n",
    "plt.xlabel(r'$\\sqrt{s}$', fontsize = 15)\n",
    "plt.ylabel(r'$\\sigma$', fontsize = 15)\n",
    "plt.title('Muon pair production total cross-section')\n",
    "plt.show()"
   ]
  }
 ],
 "metadata": {
  "kernelspec": {
   "display_name": "Python 3 (ipykernel)",
   "language": "python",
   "name": "python3"
  },
  "language_info": {
   "codemirror_mode": {
    "name": "ipython",
    "version": 3
   },
   "file_extension": ".py",
   "mimetype": "text/x-python",
   "name": "python",
   "nbconvert_exporter": "python",
   "pygments_lexer": "ipython3",
   "version": "3.10.9"
  }
 },
 "nbformat": 4,
 "nbformat_minor": 5
}
